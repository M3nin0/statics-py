{
 "cells": [
  {
   "cell_type": "markdown",
   "metadata": {},
   "source": [
    "### Introdução a estatística descritiva\n",
    "\n",
    "Todas as aulas aqui descritas são do curso \"Intro to Descriptive Statistics\" da Udacity.\n",
    "\n",
    "\n",
    "Tenho como objetivo apresentar resumos das aulas que venho assistino"
   ]
  },
  {
   "cell_type": "markdown",
   "metadata": {},
   "source": [
    "#### Aula 1 - Vídeos (1 até 25)\n",
    "\n",
    "Nestes primeiros 24 vídeos foi possível ganhar noção de fundamentos básicos sobre a estatística descritiva. Os fundamentos básicos vistos, dizem que, na estatística, há uma importância grande de dados, principalmente de datas, sem elas seria difícil realizar qualquer tipo de análise.\n",
    "\n",
    "\n",
    "Com a apresentação do estudo feito pela BBC, foi possível notar que, quando falamos de dados, devemos ser cuidadosos com os parâmetros que estão sendo utilizados tanto na coleta quanto na análise dos dados. Tudo influência os resultados, por isso surgiram os construtores e os parâmetros operacionais.\n",
    "\n",
    "Básicamente, os construtores, são estados/situações que podem ser análisados e mensurados de diversas formas, sendo esses os parâmetros operacionais, que dizem como a análise será feita, em qual pilar ela será embasada.\n",
    "\n",
    "Por exemplo a felicidade, que é um construtor, e pode ser medidade pela quantidade de tempo que você passa sorrindo dentro de um espaço de tempo X."
   ]
  }
 ],
 "metadata": {
  "kernelspec": {
   "display_name": "Python 3",
   "language": "python",
   "name": "python3"
  },
  "language_info": {
   "codemirror_mode": {
    "name": "ipython",
    "version": 3
   },
   "file_extension": ".py",
   "mimetype": "text/x-python",
   "name": "python",
   "nbconvert_exporter": "python",
   "pygments_lexer": "ipython3",
   "version": "3.6.2"
  }
 },
 "nbformat": 4,
 "nbformat_minor": 2
}
