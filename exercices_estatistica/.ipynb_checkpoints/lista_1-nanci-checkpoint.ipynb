{
 "cells": [
  {
   "cell_type": "code",
   "execution_count": 34,
   "metadata": {
    "collapsed": true
   },
   "outputs": [],
   "source": [
    "# Lista de exercícios de estatística da professora Nanci, Fatec SJC\n",
    "\n",
    "import numpy as np\n",
    "import pandas as pd"
   ]
  },
  {
   "cell_type": "code",
   "execution_count": 35,
   "metadata": {
    "scrolled": true
   },
   "outputs": [
    {
     "name": "stdout",
     "output_type": "stream",
     "text": [
      "5.28571428571\n"
     ]
    }
   ],
   "source": [
    "# 1 - Se um estudante obtém as notas abaixo nas avaliações de uma disciplina, qual foi a sua média?\n",
    "notas = [7.5, 8, 3.5, 6, 2.5, 5.5, 4]\n",
    "\n",
    "# A média calculada neste exercício é a média aritmética simples\n",
    "# Neste caso basta somar todos os valores e dividir pela quantidade de elementos\n",
    "\n",
    "# Podendo ser representado por: \n",
    "\n",
    "# media = sum(notas) / len(notas)\n",
    "\n",
    "# ou\n",
    "\n",
    "media = np.mean(notas)\n",
    "\n",
    "print(media)"
   ]
  },
  {
   "cell_type": "code",
   "execution_count": 36,
   "metadata": {
    "collapsed": true
   },
   "outputs": [],
   "source": [
    "# 2 - Encontre a média, a mediana e a moda dos dados abaixo."
   ]
  },
  {
   "cell_type": "code",
   "execution_count": 37,
   "metadata": {},
   "outputs": [
    {
     "name": "stdout",
     "output_type": "stream",
     "text": [
      "A\n",
      "Média: 4.125\n",
      "Mediana: 4.5\n",
      "5\n"
     ]
    }
   ],
   "source": [
    "# a-) 2,3,5,4,5,2,5,7\n",
    "\n",
    "rol = [2,3,5,4,5,2,5,7]\n",
    "\n",
    "# Média aritmética simples (Explicado no item acima)\n",
    "media = np.mean(rol)\n",
    "\n",
    "print('A\\nMédia: ' + str(media))\n",
    "\n",
    "# Mediana\n",
    "# A mediana é o valor que está no meio do rol, para indentificar a mediana o rol precisa antes estar ordenado\n",
    "# Podendo ser em ordem crescente ou decrescente\n",
    "\n",
    "# Ordenando os elementos em ordem crescente\n",
    "rol.sort()\n",
    "\n",
    "# Para achar a média a formula para a busca é: (n + 1) / 2, onde n é a quantidade de elementos\n",
    "# rol ordenado: [2, 2, 3, 4, 5, 5, 5, 7]\n",
    "n = len(rol) + 1\n",
    "\n",
    "# Neste caso o n é impar, sendo assim, será necessário pegar os dois elementos do centro, \n",
    "# e tirar a média artimética simples dos dois, e esse resultado será a mediana\n",
    "mediana = (4 + 5) / 2\n",
    "\n",
    "print('Mediana: ' + str(mediana))\n",
    "\n",
    "# Por fim basta fazer o cálculo da moda\n",
    "# A moda básicamente é o elemento que mais aparece dentro do rol\n",
    "\n",
    "# Vejamos o rol que temos até aqui\n",
    "# [2, 2, 3, 4, 5, 5, 5, 7]\n",
    "\n",
    "# O elemento que mais aparece é o 5\n",
    "\n",
    "moda = 5\n",
    "\n",
    "print(moda)"
   ]
  },
  {
   "cell_type": "code",
   "execution_count": 38,
   "metadata": {},
   "outputs": [
    {
     "name": "stdout",
     "output_type": "stream",
     "text": [
      "B\n",
      "Média: 7.0\n",
      "Mediana: 5.0\n",
      "Moda:     0\n",
      "0   4\n",
      "1  12\n"
     ]
    }
   ],
   "source": [
    "# b-) 4,12,5,9,12,4,3\n",
    "\n",
    "rol = [4,12,5,9,12,4,3]\n",
    "\n",
    "# Calcula a média\n",
    "media = np.mean(rol)\n",
    "print('B\\nMédia: ' + str(media))\n",
    "\n",
    "# Ordena de forma crescente os elementos\n",
    "rol.sort()\n",
    "\n",
    "# Além da forma mostrada acima, pode se calcular a mediana com o numpy\n",
    "mediana = np.median(rol)\n",
    "\n",
    "print('Mediana: ' + str(mediana))\n",
    "\n",
    "# Moda\n",
    "# Outra forma diferente de calcular a moda é utilizando o pandas\n",
    "moda = pd.DataFrame(rol).mode()\n",
    "\n",
    "print('Moda: ' + str(moda))\n",
    "\n",
    "# Veja que neste caso há uma moda do tipo bimodal, isso porque há dois elementos que mais aparecem"
   ]
  },
  {
   "cell_type": "code",
   "execution_count": null,
   "metadata": {
    "collapsed": true
   },
   "outputs": [],
   "source": []
  }
 ],
 "metadata": {
  "kernelspec": {
   "display_name": "Python 3",
   "language": "python",
   "name": "python3"
  },
  "language_info": {
   "codemirror_mode": {
    "name": "ipython",
    "version": 3
   },
   "file_extension": ".py",
   "mimetype": "text/x-python",
   "name": "python",
   "nbconvert_exporter": "python",
   "pygments_lexer": "ipython3",
   "version": "3.6.2"
  }
 },
 "nbformat": 4,
 "nbformat_minor": 2
}
