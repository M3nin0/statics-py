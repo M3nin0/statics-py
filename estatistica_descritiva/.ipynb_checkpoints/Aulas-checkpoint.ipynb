{
 "cells": [
  {
   "cell_type": "markdown",
   "metadata": {},
   "source": [
    "### Introdução a estatística descritiva\n",
    "\n",
    "Todas as aulas aqui descritas são do curso \"Intro to Descriptive Statistics\" da Udacity.\n",
    "\n",
    "\n",
    "Tenho como objetivo apresentar resumos das aulas que venho assistino"
   ]
  },
  {
   "cell_type": "markdown",
   "metadata": {},
   "source": [
    "Aula 1 - Vídeos (1 até 25)\n",
    "\n",
    "Nestes primeiros 24 vídeos "
   ]
  }
 ],
 "metadata": {
  "kernelspec": {
   "display_name": "Python 3",
   "language": "python",
   "name": "python3"
  },
  "language_info": {
   "codemirror_mode": {
    "name": "ipython",
    "version": 3
   },
   "file_extension": ".py",
   "mimetype": "text/x-python",
   "name": "python",
   "nbconvert_exporter": "python",
   "pygments_lexer": "ipython3",
   "version": "3.6.2"
  }
 },
 "nbformat": 4,
 "nbformat_minor": 2
}
