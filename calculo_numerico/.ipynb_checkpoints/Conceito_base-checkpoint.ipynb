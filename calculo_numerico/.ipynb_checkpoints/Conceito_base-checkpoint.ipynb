{
 "cells": [
  {
   "cell_type": "markdown",
   "metadata": {},
   "source": [
    "### Interpolação\n",
    "\n",
    "Tem-se um problema de interpolação quando há um conjuto descreto de dados e é preciso obter um valor que está implicito neste conjunto de dados"
   ]
  },
  {
   "cell_type": "markdown",
   "metadata": {},
   "source": [
    "#### Interpolação linear\n",
    "\n",
    "Há uma interpolação quando assume-se que há uma relação de primeiro grau (Reta) dentro do intervalo em que se está trabalhando"
   ]
  },
  {
   "cell_type": "markdown",
   "metadata": {},
   "source": [
    "#### Formula"
   ]
  },
  {
   "cell_type": "markdown",
   "metadata": {},
   "source": [
    "Abaixo será exemplificado como é possível alcançar a formula de aplicação da interpolação linear"
   ]
  },
  {
   "cell_type": "code",
   "execution_count": 27,
   "metadata": {
    "collapsed": true
   },
   "outputs": [],
   "source": [
    "from sympy import *\n",
    "import numpy as np\n",
    "from scipy import interpolate\n",
    "init_printing()\n",
    "x, ax, b = symbols('x ax b')"
   ]
  },
  {
   "cell_type": "markdown",
   "metadata": {},
   "source": [
    "X1 está para Y1 assim como X2 está para Y2"
   ]
  },
  {
   "cell_type": "code",
   "execution_count": 18,
   "metadata": {},
   "outputs": [
    {
     "data": {
      "image/png": "[encoded data removed]",
      "text/latex": [
       "$$ax + b$$"
      ],
      "text/plain": [
       "ax + b"
      ]
     },
     "execution_count": 18,
     "metadata": {},
     "output_type": "execute_result"
    }
   ],
   "source": [
    "def P1(x): return ax + b\n",
    "\n",
    "P1(x)"
   ]
  },
  {
   "cell_type": "markdown",
   "metadata": {},
   "source": [
    "### Exemplo prático\n",
    "\n",
    "Veja abaixo os intervalos que serão utilizados"
   ]
  },
  {
   "cell_type": "markdown",
   "metadata": {},
   "source": [
    "Uma empresa de cerveja aumenta a produção ao passar de x horas\n",
    "\n",
    "| Horas              | 0 | 1  | 2  | 3  | 4   | 5   | 6   |\n",
    "|--------------------|---|----|----|----|-----|-----|-----|\n",
    "| Produção em litros | 5 | 40 | 67 | 95 | 129 | 130 | 143 |\n",
    "\n",
    "\n",
    "\n",
    "Qual a produção em 2.8 horas ?"
   ]
  },
  {
   "cell_type": "markdown",
   "metadata": {},
   "source": [
    "Para realizar a análise, primeiro temos que definir, quais pontos serão utilizados na conta, neste caso o 2 e o 3, já que o ponto que precisamos encontrar está entre eles (Perceba que aqui está sendo gerado a reta entre dois pontos)"
   ]
  },
  {
   "cell_type": "code",
   "execution_count": 14,
   "metadata": {},
   "outputs": [],
   "source": [
    "p = {}\n",
    "\n",
    "# Pontos que serão utilizados e seus valores\n",
    "# p[x] = y;\n",
    "\n",
    "p[2] = 67\n",
    "p[3] = 95"
   ]
  },
  {
   "cell_type": "markdown",
   "metadata": {},
   "source": [
    "Para solucionar interpolações lineares, sempre deverá ser calculado o y em função de x"
   ]
  },
  {
   "cell_type": "markdown",
   "metadata": {},
   "source": [
    "67 = a * 2 + b\n",
    "\n",
    "95 = a * 3 + b"
   ]
  },
  {
   "cell_type": "code",
   "execution_count": 28,
   "metadata": {},
   "outputs": [],
   "source": [
    "# Reproduzindo o resultado em Python\n",
    "\n",
    "x = np.arange(0, 7)\n",
    "y = np.array([5, 40, 67, 95, 129, 130, 143])\n",
    "\n",
    "# Retorna uma função, com ela conseguimos encontrar os resultados\n",
    "f = interpolate.interp1d(x, y)"
   ]
  },
  {
   "cell_type": "code",
   "execution_count": 29,
   "metadata": {},
   "outputs": [
    {
     "data": {
      "text/plain": [
       "array(89.39999999999999)"
      ]
     },
     "execution_count": 29,
     "metadata": {},
     "output_type": "execute_result"
    }
   ],
   "source": [
    "f(2.8)"
   ]
  }
 ],
 "metadata": {
  "kernelspec": {
   "display_name": "Python 3",
   "language": "python",
   "name": "python3"
  },
  "language_info": {
   "codemirror_mode": {
    "name": "ipython",
    "version": 3
   },
   "file_extension": ".py",
   "mimetype": "text/x-python",
   "name": "python",
   "nbconvert_exporter": "python",
   "pygments_lexer": "ipython3",
   "version": "3.6.2"
  }
 },
 "nbformat": 4,
 "nbformat_minor": 2
}
