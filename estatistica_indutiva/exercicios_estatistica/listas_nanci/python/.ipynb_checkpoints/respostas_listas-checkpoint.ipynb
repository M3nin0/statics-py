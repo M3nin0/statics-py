{
 "cells": [
  {
   "cell_type": "code",
   "execution_count": 1,
   "metadata": {
    "collapsed": true
   },
   "outputs": [],
   "source": [
    "# Lista de exercícios de estatística da professora Nanci, Fatec SJC\n",
    "\n",
    "import numpy as np\n",
    "import pandas as pd"
   ]
  },
  {
   "cell_type": "code",
   "execution_count": 2,
   "metadata": {
    "scrolled": true
   },
   "outputs": [
    {
     "name": "stdout",
     "output_type": "stream",
     "text": [
      "5.28571428571\n"
     ]
    }
   ],
   "source": [
    "# 1 - Se um estudante obtém as notas abaixo nas avaliações de uma disciplina, qual foi a sua média?\n",
    "notas = [7.5, 8, 3.5, 6, 2.5, 5.5, 4]\n",
    "\n",
    "# A média calculada neste exercício é a média aritmética simples\n",
    "# Neste caso basta somar todos os valores e dividir pela quantidade de elementos\n",
    "\n",
    "# Podendo ser representado por: \n",
    "\n",
    "# media = sum(notas) / len(notas)\n",
    "\n",
    "# ou\n",
    "\n",
    "media = np.mean(notas)\n",
    "\n",
    "print(media)"
   ]
  },
  {
   "cell_type": "code",
   "execution_count": 3,
   "metadata": {
    "collapsed": true
   },
   "outputs": [],
   "source": [
    "# 2 - Encontre a média, a mediana e a moda dos dados abaixo."
   ]
  },
  {
   "cell_type": "code",
   "execution_count": 4,
   "metadata": {},
   "outputs": [
    {
     "name": "stdout",
     "output_type": "stream",
     "text": [
      "A\n",
      "Média: 4.125\n",
      "Mediana: 4.5\n",
      "5\n"
     ]
    }
   ],
   "source": [
    "# a-) 2,3,5,4,5,2,5,7\n",
    "\n",
    "rol = [2,3,5,4,5,2,5,7]\n",
    "\n",
    "# Média aritmética simples (Explicado no item acima)\n",
    "media = np.mean(rol)\n",
    "\n",
    "print('A\\nMédia: ' + str(media))\n",
    "\n",
    "# Mediana\n",
    "# A mediana é o valor que está no meio do rol, para indentificar a mediana o rol precisa antes estar ordenado\n",
    "# Podendo ser em ordem crescente ou decrescente\n",
    "\n",
    "# Ordenando os elementos em ordem crescente\n",
    "rol.sort()\n",
    "\n",
    "# Para achar a média a formula para a busca é: (n + 1) / 2, onde n é a quantidade de elementos\n",
    "# rol ordenado: [2, 2, 3, 4, 5, 5, 5, 7]\n",
    "n = len(rol) + 1\n",
    "\n",
    "# Neste caso o n é impar, sendo assim, será necessário pegar os dois elementos do centro, \n",
    "# e tirar a média artimética simples dos dois, e esse resultado será a mediana\n",
    "mediana = (4 + 5) / 2\n",
    "\n",
    "print('Mediana: ' + str(mediana))\n",
    "\n",
    "# Por fim basta fazer o cálculo da moda\n",
    "# A moda básicamente é o elemento que mais aparece dentro do rol\n",
    "\n",
    "# Vejamos o rol que temos até aqui\n",
    "# [2, 2, 3, 4, 5, 5, 5, 7]\n",
    "\n",
    "# O elemento que mais aparece é o 5\n",
    "\n",
    "moda = 5\n",
    "\n",
    "print(moda)"
   ]
  },
  {
   "cell_type": "code",
   "execution_count": 5,
   "metadata": {},
   "outputs": [
    {
     "name": "stdout",
     "output_type": "stream",
     "text": [
      "B\n",
      "Média: 7.0\n",
      "Mediana: 5.0\n",
      "Moda:     0\n",
      "0   4\n",
      "1  12\n"
     ]
    }
   ],
   "source": [
    "# b-) 4,12,5,9,12,4,3\n",
    "\n",
    "rol = [4,12,5,9,12,4,3]\n",
    "\n",
    "# Calcula a média\n",
    "media = np.mean(rol)\n",
    "print('B\\nMédia: ' + str(media))\n",
    "\n",
    "# Ordena de forma crescente os elementos\n",
    "rol.sort()\n",
    "\n",
    "# Além da forma mostrada acima, pode se calcular a mediana com o numpy\n",
    "mediana = np.median(rol)\n",
    "\n",
    "print('Mediana: ' + str(mediana))\n",
    "\n",
    "# Moda\n",
    "# Outra forma diferente de calcular a moda é utilizando o pandas\n",
    "moda = pd.DataFrame(rol).mode()\n",
    "\n",
    "print('Moda: ' + str(moda))\n",
    "\n",
    "# Veja que neste caso há uma moda do tipo bimodal, isso porque há dois elementos que mais aparecem"
   ]
  },
  {
   "cell_type": "code",
   "execution_count": 12,
   "metadata": {},
   "outputs": [
    {
     "name": "stdout",
     "output_type": "stream",
     "text": [
      "C\n",
      "Média: 7.0\n",
      "Mediana: 7.0\n",
      "Moda:\n",
      "   0\n",
      "0  7\n",
      "\n",
      "O valor que mais aparece é o 7\n"
     ]
    }
   ],
   "source": [
    "# c-) 7,7,7,7,7\n",
    "\n",
    "rol = [7,7,7,7,7]\n",
    "\n",
    "# Média aritmética simples\n",
    "media = sum(rol) / len(rol)\n",
    "print('C\\nMédia: ' + str(media))\n",
    "\n",
    "# Mediana\n",
    "# Fórmula: (n + 1) / 2, onde n é o tamanho do rol\n",
    "mediana = np.median(rol)\n",
    "print('Mediana: ' + str(mediana))\n",
    "\n",
    "# Moda\n",
    "moda = pd.DataFrame(rol).mode()\n",
    "print('Moda:\\n' + str(moda))\n",
    "print('\\nO valor que mais aparece é o 7')"
   ]
  },
  {
   "cell_type": "code",
   "execution_count": 15,
   "metadata": {},
   "outputs": [
    {
     "name": "stdout",
     "output_type": "stream",
     "text": [
      "C\n",
      "Média: 7.71428571429\n",
      "Mediana: 8.0\n",
      "Moda:\n",
      "    0\n",
      "0   6\n",
      "1   8\n",
      "2  10\n",
      "\n",
      "O valor que mais aparece é 10\n"
     ]
    }
   ],
   "source": [
    "# d-) 4,5,6,6,6,7,8,8,8,9,10,10,10,11\n",
    "\n",
    "rol = [4,5,6,6,6,7,8,8,8,9,10,10,10,11]\n",
    "rol.sort()\n",
    "\n",
    "# Média aritmética simples\n",
    "media = np.mean(rol)\n",
    "print('D\\nMédia: ' + str(media))\n",
    "\n",
    "# Mediana\n",
    "mediana = np.median(rol)\n",
    "print('Mediana: ' + str(mediana))\n",
    "\n",
    "# Moda\n",
    "moda = pd.DataFrame(rol).mode()\n",
    "print('Moda:\\n' + str(moda))\n",
    "print('\\nO valor que mais aparece é 10')"
   ]
  },
  {
   "cell_type": "code",
   "execution_count": 24,
   "metadata": {},
   "outputs": [
    {
     "name": "stdout",
     "output_type": "stream",
     "text": [
      "E\n",
      "Média: 7.666666666666667\n",
      "Mediana: 8.5\n",
      "Moda\n",
      "    0\n",
      "0   2\n",
      "1   5\n",
      "2   8\n",
      "3   9\n",
      "4  10\n",
      "5  12\n",
      "\n",
      "O valor que mais aparece é 12\n"
     ]
    }
   ],
   "source": [
    "# e-) 2,5,9,8,10,12\n",
    "\n",
    "# a ordenação sempre será necessária no rol, para que como visto, seja possível retirar a mediana e facilitar a moda\n",
    "rol = [2,5,9,8,10,12]\n",
    "rol.sort()\n",
    "\n",
    "# Média simples\n",
    "media = sum(rol) / len(rol)\n",
    "print('E\\nMédia: ' + str(media))\n",
    "\n",
    "# Mediana\n",
    "mediana = np.median(rol)\n",
    "print('Mediana: ' + str(mediana))\n",
    "\n",
    "# Moda\n",
    "moda = pd.DataFrame(rol).mode()\n",
    "print('Moda\\n' + str(moda))\n",
    "\n",
    "print('Não tem moda!')"
   ]
  },
  {
   "cell_type": "code",
   "execution_count": 29,
   "metadata": {},
   "outputs": [
    {
     "name": "stdout",
     "output_type": "stream",
     "text": [
      "Custo médio: 512.8571428571429 dólares\n",
      "Mediana: 470.0 dólares\n",
      "     0\n",
      "0  440\n",
      "A moda é 440 dólares\n"
     ]
    }
   ],
   "source": [
    "'''\n",
    "3-) Os preços em dólares para uma amostra de aparelhos de ar condicionado estão abaixo. \n",
    "Qual é o preço médio do aparelho de ar condicionado? Encontre a mediana e a moda. (Fonte: Consuner Reports)\n",
    "\n",
    "500\n",
    "840\n",
    "470\n",
    "480\n",
    "420\n",
    "440\n",
    "440\n",
    "''' \n",
    "\n",
    "rol = [500, 840, 470, 480, 420, 440, 440]\n",
    "rol.sort()\n",
    "\n",
    "# Média simples\n",
    "media = sum(rol) / len(rol) # Ou np.mean(rol)\n",
    "print('Custo médio: ' + str(media)  + ' dólares')\n",
    "\n",
    "# Mediana - (n + 1) / 2\n",
    "mediana = np.median(rol)\n",
    "print('Mediana: ' + str(mediana) + ' dólares')\n",
    "\n",
    "# Moda\n",
    "moda = pd.DataFrame(rol).mode()\n",
    "print(moda)\n",
    "\n",
    "print('A moda é 440 dólares')"
   ]
  },
  {
   "cell_type": "code",
   "execution_count": 36,
   "metadata": {},
   "outputs": [
    {
     "name": "stdout",
     "output_type": "stream",
     "text": [
      "Média de idade: 23.75\n",
      "Idade mediana: 21.5\n",
      "    0\n",
      "0  20\n",
      "A idade da moda é 20\n"
     ]
    }
   ],
   "source": [
    "'''\n",
    "4-) Encontre a média, a mediana e a moda da seguinte amostra de idades, em anos, de uma classe\n",
    "'''\n",
    "# Classe\n",
    "rol = [20, 22, 20, 22, 20, 22, 20, 23, 20, 23, 20, 23, 21, 23, 21, 24, 21, 24, 21, 65]\n",
    "\n",
    "# Média \n",
    "media = np.mean(rol)\n",
    "print('Média de idade: ' + str(media))\n",
    "\n",
    "# Mediana\n",
    "mediana = np.median(rol)\n",
    "print('Idade mediana: ' + str(mediana))\n",
    "\n",
    "# Moda\n",
    "moda = pd.DataFrame(rol).mode()\n",
    "print(moda)\n",
    "print('A idade da moda é 20')"
   ]
  }
 ],
 "metadata": {
  "kernelspec": {
   "display_name": "Python 3",
   "language": "python",
   "name": "python3"
  },
  "language_info": {
   "codemirror_mode": {
    "name": "ipython",
    "version": 3
   },
   "file_extension": ".py",
   "mimetype": "text/x-python",
   "name": "python",
   "nbconvert_exporter": "python",
   "pygments_lexer": "ipython3",
   "version": "3.6.1"
  }
 },
 "nbformat": 4,
 "nbformat_minor": 2
}
